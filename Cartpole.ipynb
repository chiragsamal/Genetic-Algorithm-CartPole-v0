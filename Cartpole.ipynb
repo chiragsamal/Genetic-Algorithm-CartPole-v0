{
  "nbformat": 4,
  "nbformat_minor": 0,
  "metadata": {
    "colab": {
      "name": "Cartpole.ipynb",
      "provenance": []
    },
    "kernelspec": {
      "name": "python3",
      "display_name": "Python 3"
    }
  },
  "cells": [
    {
      "cell_type": "markdown",
      "metadata": {
        "id": "YYOLuXD_Aava",
        "colab_type": "text"
      },
      "source": [
        "# Genetic Algorithm: CartPole-v0"
      ]
    },
    {
      "cell_type": "markdown",
      "metadata": {
        "id": "POjCjIpFAbJ5",
        "colab_type": "text"
      },
      "source": [
        "We will use Open AI Gym environment to simulate a simple game known as CartPole-v0 and then we will use GA to automate the playing of the game."
      ]
    },
    {
      "cell_type": "markdown",
      "metadata": {
        "id": "4IiH8NDtAbZJ",
        "colab_type": "text"
      },
      "source": [
        "### Problem Statement\n",
        "A pole is standing upright on the cart. The goal is to balance the pole in an upright position by moving the cart left or right. You lose the game if the angle of the pole with the cart is more than 15 degrees. You win the game if you manage to keep the pole balanced for given number of frames. For every frame you mange to keep the pole in upright position you get a ‘+1’ score."
      ]
    },
    {
      "cell_type": "markdown",
      "metadata": {
        "id": "iQhbDeFKAbnP",
        "colab_type": "text"
      },
      "source": [
        "### Solution\n",
        "To solve this problem we will first create some random game data and then we will feed it to our GA model which in turn will predict the movement of cart(left or right) for every frame. For those of you new to GA, do refer to my previous tutorials.\n",
        "As usual, we begin with importing libraries and making necessary initializations."
      ]
    },
    {
      "cell_type": "markdown",
      "metadata": {
        "id": "LAl8NJNzBVyT",
        "colab_type": "text"
      },
      "source": [
        "In a very common perspective, RL is something which is always attracting people to work on. Efforts like gym making it more reachable, but still hardware is the big hurdle to cross. Availability of enough computing power or the time consumption to train the model is always be an issue for a starter.\n",
        "\n",
        "Google Colaboratory provides that 12GB GPU support with continuous 12 hr runtime. For RL it requires to render the environment visuals. Here is sort of a tutorial to get over that issue & continue free coding.\n",
        "\n",
        "Most of the requirements of python packages are already fulfilled on colab. To run gym, 1st you have to install prerequisites like xvbf,opengl & other python-dev packages:"
      ]
    },
    {
      "cell_type": "code",
      "metadata": {
        "id": "UGnrm_WZAXjc",
        "colab_type": "code",
        "colab": {
          "base_uri": "https://localhost:8080/",
          "height": 221
        },
        "outputId": "f465a0fa-5f1d-495e-98f8-eef6c7c2bcb1"
      },
      "source": [
        "!apt-get install -y python-numpy python-dev cmake zlib1g-dev libjpeg- dev xvfb libav-tools xorg-dev python-opengl libboost-all-dev libsdl2-dev swig"
      ],
      "execution_count": 1,
      "outputs": [
        {
          "output_type": "stream",
          "text": [
            "\rReading package lists... 0%\r\rReading package lists... 0%\r\rReading package lists... 0%\r\rReading package lists... 6%\r\rReading package lists... 6%\r\rReading package lists... 7%\r\rReading package lists... 7%\r\rReading package lists... 64%\r\rReading package lists... 64%\r\rReading package lists... 64%\r\rReading package lists... 64%\r\rReading package lists... 69%\r\rReading package lists... 72%\r\rReading package lists... 72%\r\rReading package lists... 72%\r\rReading package lists... 72%\r\rReading package lists... 81%\r\rReading package lists... 81%\r\rReading package lists... 81%\r\rReading package lists... 81%\r\rReading package lists... 81%\r\rReading package lists... 81%\r\rReading package lists... 81%\r\rReading package lists... 81%\r\rReading package lists... 87%\r\rReading package lists... 87%\r\rReading package lists... 87%\r\rReading package lists... 87%\r\rReading package lists... 93%\r\rReading package lists... 93%\r\rReading package lists... 93%\r\rReading package lists... 93%\r\rReading package lists... 93%\r\rReading package lists... 93%\r\rReading package lists... 94%\r\rReading package lists... 94%\r\rReading package lists... 95%\r\rReading package lists... 95%\r\rReading package lists... 98%\r\rReading package lists... 98%\r\rReading package lists... 98%\r\rReading package lists... 98%\r\rReading package lists... Done\r\n",
            "\rBuilding dependency tree... 0%\r\rBuilding dependency tree... 0%\r\rBuilding dependency tree... 50%\r\rBuilding dependency tree... 50%\r\rBuilding dependency tree       \r\n",
            "\rReading state information... 0%\r\rReading state information... 0%\r\rReading state information... Done\r\n",
            "Package libav-tools is not available, but is referred to by another package.\n",
            "This may mean that the package is missing, has been obsoleted, or\n",
            "is only available from another source\n",
            "However the following packages replace it:\n",
            "  ffmpeg\n",
            "\n",
            "E: Unable to locate package libjpeg\n",
            "E: Unable to locate package dev\n",
            "E: Package 'libav-tools' has no installation candidate\n"
          ],
          "name": "stdout"
        }
      ]
    },
    {
      "cell_type": "code",
      "metadata": {
        "id": "KPJxYFF77qYK",
        "colab_type": "code",
        "colab": {
          "base_uri": "https://localhost:8080/",
          "height": 187
        },
        "outputId": "a641f10c-0fb7-4664-c5a6-e3d04f002933"
      },
      "source": [
        "!pip install pyvirtualdisplay\n",
        "!pip install piglet"
      ],
      "execution_count": 2,
      "outputs": [
        {
          "output_type": "stream",
          "text": [
            "Requirement already satisfied: pyvirtualdisplay in /usr/local/lib/python3.6/dist-packages (0.2.5)\n",
            "Requirement already satisfied: EasyProcess in /usr/local/lib/python3.6/dist-packages (from pyvirtualdisplay) (0.2.10)\n",
            "Requirement already satisfied: piglet in /usr/local/lib/python3.6/dist-packages (1.0.0)\n",
            "Requirement already satisfied: piglet-templates in /usr/local/lib/python3.6/dist-packages (from piglet) (0.5.1)\n",
            "Requirement already satisfied: attrs in /usr/local/lib/python3.6/dist-packages (from piglet-templates->piglet) (19.3.0)\n",
            "Requirement already satisfied: astunparse in /usr/local/lib/python3.6/dist-packages (from piglet-templates->piglet) (1.6.3)\n",
            "Requirement already satisfied: markupsafe in /usr/local/lib/python3.6/dist-packages (from piglet-templates->piglet) (1.1.1)\n",
            "Requirement already satisfied: Parsley in /usr/local/lib/python3.6/dist-packages (from piglet-templates->piglet) (1.3)\n",
            "Requirement already satisfied: six<2.0,>=1.6.1 in /usr/local/lib/python3.6/dist-packages (from astunparse->piglet-templates->piglet) (1.12.0)\n",
            "Requirement already satisfied: wheel<1.0,>=0.23.0 in /usr/local/lib/python3.6/dist-packages (from astunparse->piglet-templates->piglet) (0.34.2)\n"
          ],
          "name": "stdout"
        }
      ]
    },
    {
      "cell_type": "code",
      "metadata": {
        "id": "QFmJd0us73GH",
        "colab_type": "code",
        "colab": {
          "base_uri": "https://localhost:8080/",
          "height": 496
        },
        "outputId": "a6802ff2-bf74-4602-dc17-c7a66844414f"
      },
      "source": [
        "!pip install gym['all']"
      ],
      "execution_count": 3,
      "outputs": [
        {
          "output_type": "stream",
          "text": [
            "Requirement already satisfied: gym[all] in /usr/local/lib/python3.6/dist-packages (0.17.1)\n",
            "Requirement already satisfied: six in /usr/local/lib/python3.6/dist-packages (from gym[all]) (1.12.0)\n",
            "Requirement already satisfied: numpy>=1.10.4 in /usr/local/lib/python3.6/dist-packages (from gym[all]) (1.18.2)\n",
            "Requirement already satisfied: cloudpickle<1.4.0,>=1.2.0 in /usr/local/lib/python3.6/dist-packages (from gym[all]) (1.3.0)\n",
            "Requirement already satisfied: pyglet<=1.5.0,>=1.4.0 in /usr/local/lib/python3.6/dist-packages (from gym[all]) (1.5.0)\n",
            "Requirement already satisfied: scipy in /usr/local/lib/python3.6/dist-packages (from gym[all]) (1.4.1)\n",
            "Requirement already satisfied: imageio; extra == \"all\" in /usr/local/lib/python3.6/dist-packages (from gym[all]) (2.4.1)\n",
            "Requirement already satisfied: opencv-python; extra == \"all\" in /usr/local/lib/python3.6/dist-packages (from gym[all]) (4.1.2.30)\n",
            "Requirement already satisfied: Pillow; extra == \"all\" in /usr/local/lib/python3.6/dist-packages (from gym[all]) (7.0.0)\n",
            "Requirement already satisfied: atari-py~=0.2.0; extra == \"all\" in /usr/local/lib/python3.6/dist-packages (from gym[all]) (0.2.6)\n",
            "Collecting mujoco-py<2.0,>=1.50; extra == \"all\"\n",
            "  Using cached https://files.pythonhosted.org/packages/cf/8c/64e0630b3d450244feef0688d90eab2448631e40ba6bdbd90a70b84898e7/mujoco-py-1.50.1.68.tar.gz\n",
            "Requirement already satisfied: box2d-py~=2.3.5; extra == \"all\" in /usr/local/lib/python3.6/dist-packages (from gym[all]) (2.3.8)\n",
            "Requirement already satisfied: future in /usr/local/lib/python3.6/dist-packages (from pyglet<=1.5.0,>=1.4.0->gym[all]) (0.16.0)\n",
            "Requirement already satisfied: glfw>=1.4.0 in /usr/local/lib/python3.6/dist-packages (from mujoco-py<2.0,>=1.50; extra == \"all\"->gym[all]) (1.11.0)\n",
            "Requirement already satisfied: Cython>=0.27.2 in /usr/local/lib/python3.6/dist-packages (from mujoco-py<2.0,>=1.50; extra == \"all\"->gym[all]) (0.29.16)\n",
            "Requirement already satisfied: cffi>=1.10 in /usr/local/lib/python3.6/dist-packages (from mujoco-py<2.0,>=1.50; extra == \"all\"->gym[all]) (1.14.0)\n",
            "Requirement already satisfied: lockfile>=0.12.2 in /usr/local/lib/python3.6/dist-packages (from mujoco-py<2.0,>=1.50; extra == \"all\"->gym[all]) (0.12.2)\n",
            "Requirement already satisfied: pycparser in /usr/local/lib/python3.6/dist-packages (from cffi>=1.10->mujoco-py<2.0,>=1.50; extra == \"all\"->gym[all]) (2.20)\n",
            "Building wheels for collected packages: mujoco-py\n",
            "  Building wheel for mujoco-py (setup.py) ... \u001b[?25lerror\n",
            "\u001b[31m  ERROR: Failed building wheel for mujoco-py\u001b[0m\n",
            "\u001b[?25h  Running setup.py clean for mujoco-py\n",
            "Failed to build mujoco-py\n",
            "Installing collected packages: mujoco-py\n",
            "    Running setup.py install for mujoco-py ... \u001b[?25l\u001b[?25herror\n",
            "\u001b[31mERROR: Command errored out with exit status 1: /usr/bin/python3 -u -c 'import sys, setuptools, tokenize; sys.argv[0] = '\"'\"'/tmp/pip-install-h_q9zxrh/mujoco-py/setup.py'\"'\"'; __file__='\"'\"'/tmp/pip-install-h_q9zxrh/mujoco-py/setup.py'\"'\"';f=getattr(tokenize, '\"'\"'open'\"'\"', open)(__file__);code=f.read().replace('\"'\"'\\r\\n'\"'\"', '\"'\"'\\n'\"'\"');f.close();exec(compile(code, __file__, '\"'\"'exec'\"'\"'))' install --record /tmp/pip-record-4z0lj511/install-record.txt --single-version-externally-managed --compile Check the logs for full command output.\u001b[0m\n"
          ],
          "name": "stdout"
        }
      ]
    },
    {
      "cell_type": "code",
      "metadata": {
        "id": "wJlmVKey77tm",
        "colab_type": "code",
        "colab": {}
      },
      "source": [
        "import gym\n",
        "import random\n",
        "import numpy as np\n",
        "import matplotlib.pyplot as plt\n",
        "from random import randint\n",
        "from statistics import mean, median\n",
        "from collections import Counter\n",
        "env = gym.make(\"CartPole-v0\")\n",
        "env.reset()\n",
        "#Number of frames\n",
        "goal_steps = 500\n",
        "score_requirement = 50\n",
        "initial_games = 10000"
      ],
      "execution_count": 0,
      "outputs": []
    },
    {
      "cell_type": "code",
      "metadata": {
        "id": "nRmn16w48C4U",
        "colab_type": "code",
        "colab": {}
      },
      "source": [
        "def create_data():\n",
        "    training_data, scores, accepted_scores = [], [], []\n",
        "    for _ in range(initial_games):\n",
        "        score = 0\n",
        "        #Moves from current environment and previous observations\n",
        "        game_memory, prev_observation = [], []\n",
        "        for _ in range(goal_steps):\n",
        "            action = random.randrange(0,2)\n",
        "            observation, reward, done, info = env.step(action)\n",
        "            \n",
        "            if len(prev_observation) > 0:\n",
        "                game_memory.append([prev_observation, action])\n",
        "                \n",
        "            prev_observation = observation\n",
        "            score += reward\n",
        "            \n",
        "            if done:\n",
        "                break\n",
        "            \n",
        "        if score >= score_requirement:\n",
        "            accepted_scores.append(score)\n",
        "            for data in game_memory:\n",
        "                training_data.append(data)\n",
        "                    \n",
        "        env.reset()        \n",
        "        scores.append(score)\n",
        "       \n",
        "    print('Average accepted score:', mean(accepted_scores))\n",
        "    print('Median accepted score:', median(accepted_scores))\n",
        "        \n",
        "    return training_data"
      ],
      "execution_count": 0,
      "outputs": []
    },
    {
      "cell_type": "code",
      "metadata": {
        "id": "8xv0QYad8L9e",
        "colab_type": "code",
        "colab": {}
      },
      "source": [
        "def create_initial_pop(pop_size):\n",
        "    initial_pop = np.random.uniform(low = -2.0, high = 2.0, size = pop_size)\n",
        "    print('Initial Population:\\n{}'.format(initial_pop))\n",
        "    return initial_pop\n",
        "\n",
        "def sigmoid(z):\n",
        "    return 1/(1+np.exp(-z))\n",
        "\n",
        "def predict(X):\n",
        "    pred = np.empty((X.shape[0], 1))\n",
        "    for i in range(X.shape[0]):\n",
        "        if X[i] >= 0.5:\n",
        "            pred[i] = 0\n",
        "        else:\n",
        "            pred[i] = 1\n",
        "    return pred"
      ],
      "execution_count": 0,
      "outputs": []
    },
    {
      "cell_type": "code",
      "metadata": {
        "id": "acJo87jR8Rdb",
        "colab_type": "code",
        "colab": {}
      },
      "source": [
        "def cal_fitness(population, X, y, pop_size):\n",
        "    fitness = np.empty((pop_size[0], 1))\n",
        "    for i in range(pop_size[0]):\n",
        "        hx  = X@(population[i]).T\n",
        "        fitness[i][0] = np.sum(hx)\n",
        "    return fitness"
      ],
      "execution_count": 0,
      "outputs": []
    },
    {
      "cell_type": "code",
      "metadata": {
        "id": "oyHOYvT78Ujw",
        "colab_type": "code",
        "colab": {}
      },
      "source": [
        "\n",
        "def selection(population, fitness, num_parents):\n",
        "    fitness = list(fitness)\n",
        "    parents = np.empty((num_parents, population.shape[1]))\n",
        "    for i in range(num_parents):\n",
        "        max_fitness_idx = np.where(fitness == np.max(fitness))\n",
        "        parents[i,:] = population[max_fitness_idx[0][0], :]\n",
        "        fitness[max_fitness_idx[0][0]] = -999999\n",
        "    return parents"
      ],
      "execution_count": 0,
      "outputs": []
    },
    {
      "cell_type": "code",
      "metadata": {
        "id": "AmNNNouH8foe",
        "colab_type": "code",
        "colab": {}
      },
      "source": [
        "def crossover(parents, num_offsprings):\n",
        "    offsprings = np.empty((num_offsprings, parents.shape[1]))\n",
        "    crossover_point = int(parents.shape[1]/2)\n",
        "    crossover_rate = 0.8\n",
        "    i=0\n",
        "    while (parents.shape[0] < num_offsprings):\n",
        "        parent1_index = i%parents.shape[0]\n",
        "        parent2_index = (i+1)%parents.shape[0]\n",
        "        x = random.random()\n",
        "        if x > crossover_rate:\n",
        "            continue\n",
        "        parent1_index = i%parents.shape[0]\n",
        "        parent2_index = (i+1)%parents.shape[0]\n",
        "        offsprings[i,0:crossover_point] = parents[parent1_index,0:crossover_point]\n",
        "        offsprings[i,crossover_point:] = parents[parent2_index,crossover_point:]\n",
        "        i=+1\n",
        "    return offsprings"
      ],
      "execution_count": 0,
      "outputs": []
    },
    {
      "cell_type": "code",
      "metadata": {
        "id": "tbmr8fCC8kG_",
        "colab_type": "code",
        "colab": {}
      },
      "source": [
        "def mutation(offsprings):\n",
        "    mutants = np.empty((offsprings.shape))\n",
        "    mutation_rate = 0.4\n",
        "    for i in range(mutants.shape[0]):\n",
        "        random_value = random.random()\n",
        "        mutants[i,:] = offsprings[i,:]\n",
        "        if random_value > mutation_rate:\n",
        "            continue\n",
        "        int_random_value = randint(0,offsprings.shape[1]-1)    \n",
        "        mutants[i,int_random_value] += np.random.uniform(-1.0, 1.0, 1)\n",
        "        \n",
        "    return mutants"
      ],
      "execution_count": 0,
      "outputs": []
    },
    {
      "cell_type": "code",
      "metadata": {
        "id": "NAvVnzxm_NO7",
        "colab_type": "code",
        "colab": {}
      },
      "source": [
        "def GA_model(training_data):\n",
        "    X = np.array([i[0] for i in training_data])\n",
        "    y = np.array([i[1] for i in training_data]).reshape(-1, 1)\n",
        "    \n",
        "    weights, fitness_history = [], []\n",
        "    num_solutions = 8\n",
        "    pop_size = (num_solutions, X.shape[1])\n",
        "    num_parents = int(pop_size[0]/2)\n",
        "    num_offsprings = pop_size[0] - num_parents \n",
        "    num_generations = 50\n",
        "    \n",
        "    population = create_initial_pop(pop_size)\n",
        "    \n",
        "    for i in range(num_generations):\n",
        "        fitness = cal_fitness(population, X, y, pop_size)\n",
        "        fitness_history.append(fitness)\n",
        "        parents = selection(population, fitness, num_parents)\n",
        "        offsprings = crossover(parents, num_offsprings)\n",
        "        mutants = mutation(offsprings)\n",
        "        population[0:parents.shape[0], :] = parents\n",
        "        population[parents.shape[0]:, :] = mutants\n",
        "    \n",
        "    fitness_last_gen = cal_fitness(population, X, y, pop_size)\n",
        "    max_fitness = np.where(fitness_last_gen == np.max(fitness_last_gen))\n",
        "    weights.append(population[max_fitness[0][0],:])\n",
        "    return weights, fitness_history"
      ],
      "execution_count": 0,
      "outputs": []
    },
    {
      "cell_type": "code",
      "metadata": {
        "id": "KpJ3Ndrq_uxw",
        "colab_type": "code",
        "colab": {
          "base_uri": "https://localhost:8080/",
          "height": 221
        },
        "outputId": "10f04e16-c44f-4fd7-c5d1-5eea7defe8fa"
      },
      "source": [
        "def GA_model_predict(test_data, weights):\n",
        "    hx = sigmoid(test_data@(weights).T)\n",
        "    pred = predict(hx)\n",
        "    pred = pred.astype(int)\n",
        "    return pred[0][0]\n",
        "\n",
        "training_data = create_data()\n",
        "weights, fitness_history = GA_model(training_data)\n",
        "print('Weights: {}'.format(weights))\n",
        "weights = np.asarray(weights)"
      ],
      "execution_count": 12,
      "outputs": [
        {
          "output_type": "stream",
          "text": [
            "Average accepted score: 60.666666666666664\n",
            "Median accepted score: 57.0\n",
            "Initial Population:\n",
            "[[-0.09877547  0.50133835  1.61102915 -0.2939037 ]\n",
            " [-0.8214619  -0.01610558  0.54461359  1.67382087]\n",
            " [ 0.27897021  0.44152795  1.45159995 -1.58559947]\n",
            " [-0.53387436 -0.18057193  0.96595269  0.19509061]\n",
            " [ 0.41039495  1.50019159  0.85678028  1.94440838]\n",
            " [ 0.71226573  0.81386573  1.11612863 -0.68112485]\n",
            " [-1.48250734 -1.19678314 -0.38078993  0.44974494]\n",
            " [ 1.79213355 -1.4205662  -1.46350816  0.59835061]]\n",
            "Weights: [array([ 2.36632801, -2.49584314, -1.46350816,  5.36178189])]\n"
          ],
          "name": "stdout"
        }
      ]
    },
    {
      "cell_type": "code",
      "metadata": {
        "id": "XrsixbyLADKv",
        "colab_type": "code",
        "colab": {}
      },
      "source": [
        "num_generations = 50"
      ],
      "execution_count": 0,
      "outputs": []
    },
    {
      "cell_type": "code",
      "metadata": {
        "id": "1NLWaE9f8tyA",
        "colab_type": "code",
        "colab": {
          "base_uri": "https://localhost:8080/",
          "height": 295
        },
        "outputId": "28cda7a4-9569-43da-c2a8-8543149754d3"
      },
      "source": [
        "fitness_history_mean = [np.mean(fitness) for fitness in fitness_history]\n",
        "fitness_history_max = [np.max(fitness) for fitness in fitness_history]\n",
        "plt.plot(list(range(num_generations)), fitness_history_mean, label = 'Mean Fitness')\n",
        "plt.plot(list(range(num_generations)), fitness_history_max, label = 'Max Fitness')\n",
        "plt.legend()\n",
        "plt.title('Fitness through the generations')\n",
        "plt.xlabel('Generations')\n",
        "plt.ylabel('Fitness')\n",
        "plt.show()"
      ],
      "execution_count": 14,
      "outputs": [
        {
          "output_type": "display_data",
          "data": {
            "image/png": "[encoded data removed]",
            "text/plain": [
              "<Figure size 432x288 with 1 Axes>"
            ]
          },
          "metadata": {
            "tags": [],
            "needs_background": "light"
          }
        }
      ]
    },
    {
      "cell_type": "markdown",
      "metadata": {
        "id": "13HkIZfQDIiI",
        "colab_type": "text"
      },
      "source": [
        "## End of the Notebook"
      ]
    }
  ]
}